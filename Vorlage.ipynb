{
 "cells": [
  {
   "cell_type": "markdown",
   "metadata": {},
   "source": [
    "# Die Vorlage für das Projekt"
   ]
  },
  {
   "cell_type": "markdown",
   "metadata": {},
   "source": [
    "Das Jupyter Notebook ist eine integrierte Entwicklungsumgebung, die auf Data Science Prozesse abgestimmt ist.\n",
    "Mit den sogenannten Notebooks kann schnell und einfach Python Programmcode ausgeführt werden . Der\n",
    "interaktive und oft iterative Data Science Prozess verlangt die Ausführung von kleinen Codeelementen, um so iterativ\n",
    "immer wieder Ergebnisse zu sichten und ggf. den Code daraufhin anzupassen. Das Arbeiten in Notebooks ist ideal\n",
    "für Datenanalysen. Aus diesem Grund haben sich in der Data Science Community die Notebooks durchgesetzt."
   ]
  },
  {
   "cell_type": "markdown",
   "metadata": {},
   "source": [
    "Oben in der Befehlsleiste oder auf der Seite einer Zelle kann dann auf den Run-Knopf geklickt werden, um den Code in der Zelle\n",
    "auszuführen.\n",
    "Mit Klick auf das Plus (+ Code) wird eine neue Zelle hinzugefügt.\n",
    "Mit Klick auf (+ Markdown) kann mithilfe von Markdown ein beschreibender Text, Zwischentitel etc.\n",
    "hinzugefügt werden. Das kann dabei helfen, Code zu kommentieren und zu dokumentieren."
   ]
  },
  {
   "cell_type": "markdown",
   "metadata": {},
   "source": [
    "***"
   ]
  },
  {
   "cell_type": "markdown",
   "metadata": {},
   "source": [
    "## Bibliotheken installieren\n",
    "Für die Arbeit mit grossen Datenmengen im Python benötigen wir verschiedene Python Bibliotheken (engl: Python\n",
    "Libraries), die uns ermöglichen Berechnungen und Methoden des maschinellen Lernens zu nutzen. Diese können\n",
    "wir über pip install XXX installieren.\n",
    "Unten eine Auflistung der Bibliotheken, die wir als Grundlage benötigen.\n",
    "\n",
    "**Numpy**: \n",
    "Numpy ist die Grundlage für die Datenanalyse in Python. Die Struktur in mehrdimensionalen Arrays\n",
    "ermöglicht das effiziente Rechnen von mathematischen, logischen, statistischen und weiteren\n",
    "Operationen, wie lineare Algebra, in Python. Auf den mehrdimensionalen Numpy Arrays basiert das\n",
    "sehr beliebte Paket Pandas.\n",
    "\n",
    "**Pandas**: \n",
    "Pandas basiert auf Numpy und ermöglicht uns durch die DataFrame-Datenstruktur ein einfache Art\n",
    "und Weise, wie wir Daten lesen, verarbeiten und manipulieren können. Pandas ist eine\n",
    "Standardbibliothek jedes Data Scientists.\n",
    "\n",
    "**Matplotlib**: \n",
    "Matplotlib ist die Standardbibliothek für die Visualisierung von Daten in Python. Die Visualisierung von\n",
    "Daten ist ein wichtiger Bestandteil von Machine Learning.\n",
    "\n",
    "**Scikit-Learn**:\n",
    "Scikit-learn ist eine Python Bibliothek speziell für Machine Learning mit Python. Eine Vielzahl von\n",
    "Machine Learning Algorithmen, Methoden zur Datenvorverarbeitung und Möglichkeiten die\n",
    "Modellqualität zu überprüfen sind in diesem Paket enthalten. Jeder, der Machine Learning in Python\n",
    "ernsthaft betreiben will, muss dieses Paket kennen."
   ]
  },
  {
   "cell_type": "markdown",
   "metadata": {},
   "source": [
    "Zuerst müssen alle wichtigen Libraries installiert werden. "
   ]
  },
  {
   "cell_type": "code",
   "execution_count": null,
   "metadata": {},
   "outputs": [],
   "source": [
    "%pip install --upgrade pip\n",
    "%pip install install numpy==2.0\n",
    "%pip install pandas\n",
    "%pip install matplotlib\n",
    "%pip install seaborn\n",
    "%pip install scikit-learn\n",
    "%pip install ucimlrepo\n",
    "%pip install lime\n",
    "%pip install shap\n",
    "%pip install xgboost"
   ]
  },
  {
   "cell_type": "markdown",
   "metadata": {},
   "source": [
    "Dann können wir die installierten Libraries importieren. "
   ]
  },
  {
   "cell_type": "code",
   "execution_count": null,
   "metadata": {},
   "outputs": [],
   "source": [
    "import warnings\n",
    "warnings.filterwarnings(\"ignore\")\n",
    "import numpy as np\n",
    "import pandas as pd\n",
    "import matplotlib.pyplot as plt\n",
    "import seaborn as sns\n",
    "from sklearn.pipeline import Pipeline\n",
    "from sklearn.preprocessing import StandardScaler,PolynomialFeatures\n",
    "from sklearn.linear_model import LinearRegression\n",
    "import lime"
   ]
  },
  {
   "cell_type": "markdown",
   "metadata": {},
   "source": [
    "Ab hier kommt euer Code. "
   ]
  },
  {
   "cell_type": "markdown",
   "metadata": {},
   "source": [
    "## Das Ziel / Auftrag: \n",
    "- Sie importieren ein Datenset. \n",
    "- Sie analysieren den Inhalt vom Datenset: Sie haben ein X und ein y. X sind sogenannte Eingabedaten, also Eigenschaften, die y (Die Ausgabedaten) beeinflussen. \n",
    "- Sie trainieren ein Machine Learning Modell auf einem Teil der Daten. Den Code dazu können Sie aus den Unterlagen übernehmen. \n",
    "- Sie werten Ihr Modell aus: Wie gut funktioniert der Algorithmus auf Ihren Daten? Wäre es möglich das Modell so einzusetzen? Wäre der Einsatz \"gefährlich\"? \n",
    "- Für die Auswertung: Ihr Modell macht auf Eingabedaten, die es noch nicht kennt Vorhersagen für y. Wir kennen die korrekten Daten von y und können dann \"korrigieren\" bzw. kontrollieren, wie gut das Modell funktioniert (= zu wie viel Prozent liegt das Modell richtig)\n",
    "- Auf den Daten und dem Modell kann man unterschiedliche Diagramme generieren, die uns die Daten oder das Verhalten vom Modell besser erklären. "
   ]
  },
  {
   "cell_type": "markdown",
   "metadata": {},
   "source": [
    "***"
   ]
  },
  {
   "cell_type": "markdown",
   "metadata": {},
   "source": [
    "Als erster Schritt müssen die Daten eingelesen werden. Wenn Sie sich für ein Datenset entschieden haben, finden\n",
    "Sie oben rechts den Button “Import in Python”\n",
    "- Und dann kopieren Sie den Code-Teil unter “Import the dataset\n",
    "into your code”"
   ]
  },
  {
   "cell_type": "code",
   "execution_count": null,
   "metadata": {},
   "outputs": [],
   "source": []
  },
  {
   "cell_type": "markdown",
   "metadata": {},
   "source": [
    "Mit unterschiedlichen Funktionen können Sie nun Ihre Daten \"kennenlernen\". Probieren Sie die Funktionen aus dem Dokument Projekt Teil 2 aus. Behalten Sie alles, was Sie ausprobieren hier im Jupyter Notebook als Dokumentation. \n",
    "Fügen Sie pro Code Teil eine neue Zelle hinzu! (Es macht nichts, wenn es pro Zelle nur eine Zeile Code hat) "
   ]
  },
  {
   "cell_type": "code",
   "execution_count": null,
   "metadata": {},
   "outputs": [],
   "source": []
  }
 ],
 "metadata": {
  "kernelspec": {
   "display_name": "Python 3",
   "language": "python",
   "name": "python3"
  },
  "language_info": {
   "name": "python",
   "version": "3.11.3"
  }
 },
 "nbformat": 4,
 "nbformat_minor": 2
}
